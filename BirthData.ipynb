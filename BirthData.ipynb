{
 "cells": [
  {
   "cell_type": "code",
   "execution_count": null,
   "metadata": {
    "collapsed": true
   },
   "outputs": [],
   "source": [
    "from quilt.data.iana import birthData\n",
    "import numpy as np\n",
    "import pandas as pd\n",
    "\n",
    "%matplotlib inline"
   ]
  },
  {
   "cell_type": "markdown",
   "metadata": {},
   "source": [
    "# BirthData\n",
    "\n",
    "This notebook contains natality data from the [National Center for Health Statistics](http://www.nber.org/data/vital-statistics-natality-data.html), specifically, it looks at simple patterns in the 2016 dataset (~4M lines). The data have been made available as the quilt object [iana/birthData](https://quiltdata.com/package/iana/birthData) which can be accessed from python3 with as follows\n",
    "```\n",
    "from quilt.data.iana import birthData\n",
    "birthDF = birthData.birthDF()\n",
    "```\n",
    "The dataframe is quite large, so be prepared to wait a minute or so as it is loaded. There are 240 columns and a fair amount of redundant information it would probably be more efficient to just extract the columns you need.\n",
    "\n",
    "  * `dob_tt`: Date of birth time, minute of the day [0..2399]\n",
    "  * `dob_wk`: Date of birth, day of week [1..7]\n",
    "  * `me_rout`: Final Route & Method of Delivery\n",
    "    * `1`: Spontaneous\n",
    "    * `2`: Forceps\n",
    "    * `3`: Vacuum\n",
    "    * `4`: Cesarean\n",
    "    * `9`: Unknown or not stated\n",
    "  * `ld_indl`: Induction of Labor Y Yes [YN]\n",
    "  * `attend`: Attendant at Birth\n",
    "    * `1`: Doctor of Medicine (MD)\n",
    "    * `2`: Doctor of Osteopathy (DO)\n",
    "    * `3`: Certified Nurse Midwife (CNM)\n",
    "    * `4`: Other Midwife\n",
    "    * `5`: Other\n",
    "    * `9`: Unknown or not stated \n",
    " \n",
    "The [NBER site](http://www.nber.org/data/vital-statistics-natality-data.html) includes a dsecription file [desc.txt](http://www.nber.org/natality/2016/desc/natl2016/desc.txt) which contains basic information on the columns. More information including definitions of the keys and values is available (in PDF form) in the [2016 natality Dataset User Guide](ftp://ftp.cdc.gov/pub/Health_Statistics/NCHS/Dataset_Documentation/DVS/natality/UserGuide2016.pdf)."
   ]
  },
  {
   "cell_type": "code",
   "execution_count": null,
   "metadata": {
    "collapsed": true
   },
   "outputs": [],
   "source": [
    "allbirthDF = birthData.birthDF()\n",
    "birthDF = allbirthDF[['dob_tt', 'dob_wk', 'me_rout', 'ld_indl', 'attend']]\n",
    "birthDF = birthDF.copy()\n",
    "del(allbirthDF)"
   ]
  },
  {
   "cell_type": "markdown",
   "metadata": {},
   "source": [
    "The `dob_tt` column is in the format HHMM stored as a ?float? with 9999 representing \"Not Stated\". Let's apply that change right now."
   ]
  },
  {
   "cell_type": "code",
   "execution_count": null,
   "metadata": {
    "collapsed": true
   },
   "outputs": [],
   "source": [
    "birthDF['dob_tt_s'] = birthDF['dob_tt'].apply('{:04.0f}'.format)\n",
    "\n",
    "birthDF.loc[birthDF['dob_tt'] == 9999, ['dob_tt', 'dob_tt_s']] = np.NaN"
   ]
  },
  {
   "cell_type": "code",
   "execution_count": null,
   "metadata": {
    "collapsed": true
   },
   "outputs": [],
   "source": [
    "birthDF['dob_tt_ts'] = pd.to_datetime(birthDF['dob_tt_s'], format=\"%H%M\")"
   ]
  },
  {
   "cell_type": "markdown",
   "metadata": {},
   "source": [
    "## Time of Birth\n",
    "\n",
    "First, we will look at a histogram of time of birth. `dob_tt` contains an integer value from 1 to 2359, where the first two digits must be the hour and the second two the minute."
   ]
  },
  {
   "cell_type": "code",
   "execution_count": null,
   "metadata": {},
   "outputs": [],
   "source": [
    "birthDF[\"dob_tt_ts\"].groupby(birthDF[\"dob_tt_ts\"].dt.hour).count().plot(\n",
    "    kind=\"bar\", \n",
    "    figsize=(10, 10)\n",
    ")"
   ]
  },
  {
   "cell_type": "markdown",
   "metadata": {},
   "source": [
    "## Day of the Week\n",
    "\n",
    "First, let's just look at births on each day, you can spot the weekend pretty easily (Sunday = 0, Saturday = 6)."
   ]
  },
  {
   "cell_type": "code",
   "execution_count": null,
   "metadata": {},
   "outputs": [],
   "source": [
    "birthDF.hist('dob_wk', bins=7, figsize=(10, 10))"
   ]
  },
  {
   "cell_type": "markdown",
   "metadata": {},
   "source": [
    "### Route 1 Births\n",
    "\n",
    "\"Route 1\" corresponds to spontaneous birth, eh ... naturally. Let's restrict to route_1 births and see what that does to the day-of-the-week distribution."
   ]
  },
  {
   "cell_type": "code",
   "execution_count": null,
   "metadata": {},
   "outputs": [],
   "source": [
    "birthDF[birthDF['me_rout'] == 1].hist('dob_wk', bins=7, figsize=(10, 10))"
   ]
  },
  {
   "cell_type": "markdown",
   "metadata": {},
   "source": [
    "### Induced Births\n",
    "\n",
    "Now, what happens if we restrict ourselves to births which were _not_ induced"
   ]
  },
  {
   "cell_type": "code",
   "execution_count": null,
   "metadata": {},
   "outputs": [],
   "source": [
    "birthDF[(birthDF['me_rout'] == 1) & \n",
    "        (birthDF['ld_indl'] == 'N')].hist('dob_wk', bins=7, figsize=(10, 10))"
   ]
  },
  {
   "cell_type": "markdown",
   "metadata": {},
   "source": [
    "That looks a bit flatter, so what happens if we pick out different \"Attendant at Birth\" values.\n",
    "\n",
    "### Attendant at Birth\n",
    "\n",
    "#### Doctors of Medicine"
   ]
  },
  {
   "cell_type": "code",
   "execution_count": null,
   "metadata": {},
   "outputs": [],
   "source": [
    "birthDF[(birthDF['me_rout'] == 1) & \n",
    "        (birthDF['ld_indl'] == 'N') &\n",
    "        (birthDF['attend'] == 1)].hist('dob_wk', bins=7, figsize=(10, 10))"
   ]
  },
  {
   "cell_type": "markdown",
   "metadata": {},
   "source": [
    "#### Doctor of Osteopathy"
   ]
  },
  {
   "cell_type": "code",
   "execution_count": null,
   "metadata": {},
   "outputs": [],
   "source": [
    "birthDF[(birthDF['me_rout'] == 1) & \n",
    "        (birthDF['ld_indl'] == 'N') &\n",
    "        (birthDF['attend'] == 2)].hist('dob_wk', bins=7, figsize=(10, 10))"
   ]
  },
  {
   "cell_type": "markdown",
   "metadata": {},
   "source": [
    "#### Certified Nurse Midwife"
   ]
  },
  {
   "cell_type": "code",
   "execution_count": null,
   "metadata": {},
   "outputs": [],
   "source": [
    "birthDF[(birthDF['me_rout'] == 1) & \n",
    "        (birthDF['ld_indl'] == 'N') &\n",
    "        (birthDF['attend'] == 3)].hist('dob_wk', bins=7, figsize=(10, 10))"
   ]
  },
  {
   "cell_type": "markdown",
   "metadata": {},
   "source": [
    "#### Other midwife"
   ]
  },
  {
   "cell_type": "code",
   "execution_count": null,
   "metadata": {},
   "outputs": [],
   "source": [
    "birthDF[(birthDF['me_rout'] == 1) & \n",
    "        (birthDF['ld_indl'] == 'N') &\n",
    "        (birthDF['attend'] == 4)].hist('dob_wk', bins=7, figsize=(10, 10))"
   ]
  },
  {
   "cell_type": "markdown",
   "metadata": {},
   "source": [
    "#### Other"
   ]
  },
  {
   "cell_type": "code",
   "execution_count": null,
   "metadata": {},
   "outputs": [],
   "source": [
    "birthDF[(birthDF['me_rout'] == 1) & \n",
    "        (birthDF['ld_indl'] == 'N') &\n",
    "        (birthDF['attend'] == 5)].hist('dob_wk', bins=7, figsize=(10, 10))"
   ]
  }
 ],
 "metadata": {
  "kernelspec": {
   "display_name": "Python 3",
   "language": "python",
   "name": "python3"
  },
  "language_info": {
   "codemirror_mode": {
    "name": "ipython",
    "version": 3
   },
   "file_extension": ".py",
   "mimetype": "text/x-python",
   "name": "python",
   "nbconvert_exporter": "python",
   "pygments_lexer": "ipython3",
   "version": "3.6.3"
  }
 },
 "nbformat": 4,
 "nbformat_minor": 2
}
