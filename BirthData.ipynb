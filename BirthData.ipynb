{
 "cells": [
  {
   "cell_type": "code",
   "execution_count": null,
   "metadata": {
    "collapsed": true
   },
   "outputs": [],
   "source": [
    "from quilt.data.iana import birthData\n",
    "import numpy as np\n",
    "import pandas as pd\n",
    "\n",
    "%matplotlib inline"
   ]
  },
  {
   "cell_type": "markdown",
   "metadata": {},
   "source": [
    "# BirthData\n",
    "\n",
    "This notebook contains natality data from the [National Center for Health Statistics](http://www.nber.org/data/vital-statistics-natality-data.html), specifically, it looks at simple patterns in a reduced set of the 2016 dataset. The data have been made available as the quilt object [iana/birthData](https://quiltdata.com/package/iana/birthData) which can be accessed from python3 with as follows\n",
    "```\n",
    "from quilt.data.iana import birthData\n",
    "birthDF = birthData.birthDF()\n",
    "```\n",
    "This is the original dataframe which is probably too large to manipulate efficiently on mybinder.org (~4M lines). There is a derived dataframe consisting of around 20 columns of the original file: `birthDFr`. Here is a summary of the columns included.\n",
    "\n",
    "  * `dob_mm`: month of birth (1..12)\n",
    "  * `dob_tt`: time of birth, HMM where H is NOT zero padded [9999 N/A]\n",
    "  * `dob_wk`: birth day of week. \n",
    "    - `1`: Sunday\n",
    "    - `2`: Monday\n",
    "    - ...\n",
    "    - `7`: Saturday\n",
    "  * `bfacil`: Birth Facility\n",
    "    - `1`: Hospital\n",
    "    - `2`: Freestanding Birth Center\n",
    "    - `3`: Home (intended)\n",
    "    - `4`: Home (not intended)\n",
    "    - `5`: Home (unknown if intended)\n",
    "    - `6`: Clinic/Doctor's office\n",
    "    - `7`: Other\n",
    "    - `9`: Unknown\n",
    "  * `mager`: Mother's single years of age (integer years)\n",
    "    - `10-12`: Age in years\n",
    "    - `50`: 50+\n",
    "  * `mbrace`: Bridged race mother\n",
    "    - `1`: White\n",
    "    - `2`: Black\n",
    "    - `3`: American Indian or Alaskan Native\n",
    "    - `4`: Asian or Pacific Islander\n",
    "    - `0`: Other / Not classified\n",
    "  * `fagercomb`:\n",
    "    - `9-98`: Father's combined age in years\n",
    "    - `99`: Unknown or not stated\n",
    "  * `fbrace`: Bridged race father\n",
    "    - `1`: White\n",
    "    - `2`: Black\n",
    "    - `3`: American Indian or Alaskan Native\n",
    "    - `4`: Asian or Pacific Islander\n",
    "    - `9`: Unknown / Not stated.\n",
    "  * `ilop_r11`: Interval since last other pregnancy recode 11\n",
    "    - `0`: Zero to 3 months (plural delivery)\n",
    "    - `1`: 4 to 11 months\n",
    "    - `2`: 12 to 17 months\n",
    "    - `3`: 18 to 23 months\n",
    "    - `4`: 24 to 35 months\n",
    "    - `5`: 36 to 47 months\n",
    "    - `6`: 48 to 59 months\n",
    "    - `7`: 60 to 71 months\n",
    "    - `8`: 82 months and over\n",
    "    - `88`: Not applicable (1st natality event)\n",
    "    - `99`: Unknown or not stated\n",
    "  * `bmi`: Body Mass Index\n",
    "    - `13.0-69.9`: Body Mass Index\n",
    "    - `99.9`: Unknown or not stated\n",
    "  * `ld_indl`: Induction of labour\n",
    "    - `Y`: Yes\n",
    "    - `N`: No\n",
    "    - `U`: Unknown or not stated\n",
    "  * `ld_augm`: Augmentation of labour\n",
    "    - `Y`: Yes\n",
    "    - `N`: No\n",
    "    - `U`: Unknown or not stated\n",
    "  * `ld_anes`: Anesthesia\n",
    "    - `Y`: Yes\n",
    "    - `N`: No\n",
    "    - `U`: Unknown or not stated\n",
    "  * `me_rout`: Final Route and Method of delivery\n",
    "    - `1`: Spontaneous\n",
    "    - `2`: Forceps\n",
    "    - `3`: Vacuum\n",
    "    - `4`: Cesarean\n",
    "    - `9`: Unknown or not stated\n",
    "  * `me_trial`: Trial of labour attempted (if cesarean)\n",
    "    - `Y`: Yes\n",
    "    - `N`: No\n",
    "    - `X`: Not applicable\n",
    "    - `Y`: Unknown or not stated\n",
    "  * `attend`: Attendant at Birth\n",
    "    - `1`: Doctor of Medicine (MD)\n",
    "    - `2`: Doctor of Osteopathy (DO)\n",
    "    - `3`: Certified Nurse Midwife (CNM)\n",
    "    - `4`: Other Midwife\n",
    "    - `5`: Other\n",
    "    - `9`: Unknown or not stated\n",
    "  * `pay`: Payment source for delivery\n",
    "    - `1`: Medicade\n",
    "    - `2`: Private Insurance\n",
    "    - `3`: Self-Pay\n",
    "    - `4`: Indian Health Service\n",
    "    - `5`: CHAMPUS/TRICARE\n",
    "    - `6`: Other government (federal, state, local)\n",
    "    - `8`: Other\n",
    "    - `9`: Unknown\n",
    "  * `sex`: Sex of infant\n",
    "    - `M`: Male\n",
    "    - `F`: Female\n",
    "  * `dbwt`: Birth weight - detail in grams\n",
    "    - `227-8166`: Number of grams\n",
    "    - `9999`: Not stated.\n",
    " \n",
    "Even this reduced data set is quite large, if you run into problems, you can try dropping columns from pandas with `birthDF.drop('column')`. \n",
    "\n",
    "The [NBER site](http://www.nber.org/data/vital-statistics-natality-data.html) includes a dsecription file [desc.txt](http://www.nber.org/natality/2016/desc/natl2016/desc.txt) which contains basic information on the columns. More information including definitions of the keys and values is available (in PDF form) in the [2016 natality Dataset User Guide](http://www.nber.org/natality/2016/UserGuide2016.pdf)."
   ]
  },
  {
   "cell_type": "code",
   "execution_count": null,
   "metadata": {
    "collapsed": true
   },
   "outputs": [],
   "source": [
    "birthDF = birthData.birthDFr()"
   ]
  },
  {
   "cell_type": "markdown",
   "metadata": {},
   "source": [
    "The dob_tt column \"sort of\" looks like a timestamp, so let's convert it to something that pandas can use as a timestamp. Here is the process\n",
    "  \n",
    "  1. Remove invalid entries (9999 = \"not stated\")\n",
    "  2. zero pad strings so that e.g. 736 becomes 0736\n",
    "  3. run the result through to_datetime\n",
    "  "
   ]
  },
  {
   "cell_type": "code",
   "execution_count": null,
   "metadata": {},
   "outputs": [],
   "source": [
    "birthDF.loc[birthDF['dob_tt'] == '9999', ['dob_tt']] = np.NaN\n",
    "birthDF['dob_tt'] = birthDF['dob_tt'].str.pad(4,fillchar='0')\n",
    "birthDF['dob_tt'] = pd.to_datetime(birthDF['dob_tt'], format=\"%H%M\")"
   ]
  },
  {
   "cell_type": "markdown",
   "metadata": {},
   "source": [
    "## Time of Birth\n",
    "\n",
    "First, we will look at a histogram of time of birth. `dob_tt` contains an integer value from 1 to 2359, where the first two digits must be the hour and the second two the minute."
   ]
  },
  {
   "cell_type": "code",
   "execution_count": null,
   "metadata": {},
   "outputs": [],
   "source": [
    "birthDF[\"dob_tt\"].groupby(birthDF[\"dob_tt\"].dt.hour).count().plot(\n",
    "    kind=\"bar\", \n",
    "    figsize=(10, 10)\n",
    ")"
   ]
  },
  {
   "cell_type": "markdown",
   "metadata": {},
   "source": [
    "## Day of the Week\n",
    "\n",
    "First, let's just look at births on each day, you can spot the weekend pretty easily (Sunday = 0, Saturday = 6)."
   ]
  },
  {
   "cell_type": "code",
   "execution_count": null,
   "metadata": {},
   "outputs": [],
   "source": [
    "birthDF.hist('dob_wk', bins=7, figsize=(10, 10))"
   ]
  },
  {
   "cell_type": "markdown",
   "metadata": {},
   "source": [
    "### Route 1 Births\n",
    "\n",
    "\"Route 1\" corresponds to spontaneous birth, eh ... naturally. Let's restrict to route_1 births and see what that does to the day-of-the-week distribution."
   ]
  },
  {
   "cell_type": "code",
   "execution_count": null,
   "metadata": {},
   "outputs": [],
   "source": [
    "birthDF[birthDF['me_rout'] == 1].hist('dob_wk', bins=7, figsize=(10, 10))"
   ]
  },
  {
   "cell_type": "markdown",
   "metadata": {},
   "source": [
    "### Induced Births\n",
    "\n",
    "Now, what happens if we restrict ourselves to births which were _not_ induced"
   ]
  },
  {
   "cell_type": "code",
   "execution_count": null,
   "metadata": {},
   "outputs": [],
   "source": [
    "birthDF[(birthDF['me_rout'] == 1) & \n",
    "        (birthDF['ld_indl'] == 'N')].hist('dob_wk', bins=7, figsize=(10, 10))"
   ]
  },
  {
   "cell_type": "markdown",
   "metadata": {},
   "source": [
    "That looks a bit flatter, so what happens if we pick out different \"Attendant at Birth\" values.\n",
    "\n",
    "### Attendant at Birth\n",
    "\n",
    "#### Doctors of Medicine"
   ]
  },
  {
   "cell_type": "code",
   "execution_count": null,
   "metadata": {},
   "outputs": [],
   "source": [
    "birthDF[(birthDF['me_rout'] == 1) & \n",
    "        (birthDF['ld_indl'] == 'N') &\n",
    "        (birthDF['attend'] == 1)].hist('dob_wk', bins=7, figsize=(10, 10))"
   ]
  },
  {
   "cell_type": "markdown",
   "metadata": {},
   "source": [
    "#### Doctor of Osteopathy"
   ]
  },
  {
   "cell_type": "code",
   "execution_count": null,
   "metadata": {},
   "outputs": [],
   "source": [
    "birthDF[(birthDF['me_rout'] == 1) & \n",
    "        (birthDF['ld_indl'] == 'N') &\n",
    "        (birthDF['attend'] == 2)].hist('dob_wk', bins=7, figsize=(10, 10))"
   ]
  },
  {
   "cell_type": "markdown",
   "metadata": {},
   "source": [
    "#### Certified Nurse Midwife"
   ]
  },
  {
   "cell_type": "code",
   "execution_count": null,
   "metadata": {},
   "outputs": [],
   "source": [
    "birthDF[(birthDF['me_rout'] == 1) & \n",
    "        (birthDF['ld_indl'] == 'N') &\n",
    "        (birthDF['attend'] == 3)].hist('dob_wk', bins=7, figsize=(10, 10))"
   ]
  },
  {
   "cell_type": "markdown",
   "metadata": {},
   "source": [
    "#### Other midwife"
   ]
  },
  {
   "cell_type": "code",
   "execution_count": null,
   "metadata": {},
   "outputs": [],
   "source": [
    "birthDF[(birthDF['me_rout'] == 1) & \n",
    "        (birthDF['ld_indl'] == 'N') &\n",
    "        (birthDF['attend'] == 4)].hist('dob_wk', bins=7, figsize=(10, 10))"
   ]
  },
  {
   "cell_type": "markdown",
   "metadata": {},
   "source": [
    "#### Other"
   ]
  },
  {
   "cell_type": "code",
   "execution_count": null,
   "metadata": {},
   "outputs": [],
   "source": [
    "birthDF[(birthDF['me_rout'] == 1) & \n",
    "        (birthDF['ld_indl'] == 'N') &\n",
    "        (birthDF['attend'] == 5)].hist('dob_wk', bins=7, figsize=(10, 10))"
   ]
  },
  {
   "cell_type": "code",
   "execution_count": null,
   "metadata": {
    "collapsed": true
   },
   "outputs": [],
   "source": []
  }
 ],
 "metadata": {
  "kernelspec": {
   "display_name": "Python 3",
   "language": "python",
   "name": "python3"
  },
  "language_info": {
   "codemirror_mode": {
    "name": "ipython",
    "version": 3
   },
   "file_extension": ".py",
   "mimetype": "text/x-python",
   "name": "python",
   "nbconvert_exporter": "python",
   "pygments_lexer": "ipython3",
   "version": "3.6.3"
  }
 },
 "nbformat": 4,
 "nbformat_minor": 2
}
